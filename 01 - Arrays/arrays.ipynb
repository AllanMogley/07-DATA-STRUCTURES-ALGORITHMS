{
 "cells": [
  {
   "cell_type": "markdown",
   "metadata": {},
   "source": [
    "### Palindrome Number\n",
    "\n",
    "Given an integer x, return true if x is a palindrome and false\n",
    "otherwise.\n",
    "\n",
    "Palindrome : An integer is a palindrome when it reads the same\n",
    "forward and backward.\n",
    "\n",
    "For example, **121** is a palindrome while **123** is not. "
   ]
  },
  {
   "cell_type": "markdown",
   "metadata": {},
   "source": [
    "#### Example 1:\n",
    "Input: x = 121\n",
    "Output: true\n",
    "Explanation: 121 reads as 121 from left to right and from right to left.\n",
    "\n",
    "\n",
    "#### Example 2:\n",
    "Input: x = -121\n",
    "Output: false\n",
    "Explanation: From left to right, it reads -121.\n",
    "From right to left, it becomes 121-.\n",
    "\n",
    "Therefore it is not a palindrome."
   ]
  },
  {
   "cell_type": "code",
   "execution_count": 44,
   "metadata": {},
   "outputs": [
    {
     "data": {
      "text/plain": [
       "True"
      ]
     },
     "execution_count": 44,
     "metadata": {},
     "output_type": "execute_result"
    }
   ],
   "source": [
    "x = 141\n",
    "\n",
    "def palindrome(z:int) -> bool:\n",
    "    return str(z) == str(z)[::-1]\n",
    "\n",
    "palindrome(x)\n",
    "\n",
    "# 1. Convert the integer into a string ✅✅\n",
    "# 2. Reverse the string eith [::1] i.e Reorder from end to start as in -1 ✅✅\n",
    "# 3. Return the answer as a boolean ✅✅"
   ]
  }
 ],
 "metadata": {
  "kernelspec": {
   "display_name": "TredStone",
   "language": "python",
   "name": "python3"
  },
  "language_info": {
   "codemirror_mode": {
    "name": "ipython",
    "version": 3
   },
   "file_extension": ".py",
   "mimetype": "text/x-python",
   "name": "python",
   "nbconvert_exporter": "python",
   "pygments_lexer": "ipython3",
   "version": "3.10.12"
  }
 },
 "nbformat": 4,
 "nbformat_minor": 2
}
